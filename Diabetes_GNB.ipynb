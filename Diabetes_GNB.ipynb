{
 "cells": [
  {
   "cell_type": "markdown",
   "metadata": {},
   "source": [
    "# Import Library"
   ]
  },
  {
   "cell_type": "code",
   "execution_count": 1,
   "metadata": {},
   "outputs": [],
   "source": [
    "#for data manupulating\n",
    "import numpy as np\n",
    "import pandas as pd\n",
    "\n",
    "#for preprocessin sate\n",
    "from sklearn.utils import shuffle\n",
    "from sklearn.model_selection import train_test_split\n",
    "from sklearn.preprocessing import LabelEncoder\n",
    "\n",
    "#for classification model\n",
    "from sklearn.naive_bayes import GaussianNB\n",
    "\n",
    "#for checking accuracy score & confusion matrix\n",
    "from sklearn.metrics import accuracy_score\n",
    "from sklearn.metrics import confusion_matrix\n",
    "import matplotlib.pyplot as plt     \n",
    "import scikitplot as skplt"
   ]
  },
  {
   "cell_type": "code",
   "execution_count": 2,
   "metadata": {},
   "outputs": [],
   "source": [
    "diabetes = pd.read_csv('diabetic_data.csv', skiprows=1,header = None)  \n",
    "#diabetes"
   ]
  },
  {
   "cell_type": "markdown",
   "metadata": {},
   "source": [
    "# Feature Selection"
   ]
  },
  {
   "cell_type": "code",
   "execution_count": 3,
   "metadata": {},
   "outputs": [
    {
     "name": "stdout",
     "output_type": "stream",
     "text": [
      "(101766, 35)\n"
     ]
    }
   ],
   "source": [
    "#for features selection and preprocessing\n",
    "#we neglect 13 , 14 , 15 columns\n",
    "x1 = pd.read_csv('diabetic_data.csv',header=None,skiprows=1,usecols=range(0,13)).dropna()\n",
    "x2 = pd.read_csv('diabetic_data.csv',header=None,skiprows=1,usecols=range(16,38)).dropna()\n",
    "Data1 = x1.join(x2)\n",
    "\n",
    "#transform Dataframe to array\n",
    "Data = np.array(Data1)\n",
    "print(Data.shape)"
   ]
  },
  {
   "cell_type": "markdown",
   "metadata": {},
   "source": [
    "# Label Encoder"
   ]
  },
  {
   "cell_type": "code",
   "execution_count": 4,
   "metadata": {},
   "outputs": [
    {
     "data": {
      "text/plain": [
       "array([['None', 'None', 'No', ..., 'No', 'No', 'No'],\n",
       "       ['None', 'None', 'No', ..., 'No', 'Up', 'Yes'],\n",
       "       ['None', 'None', 'No', ..., 'No', 'No', 'Yes'],\n",
       "       ...,\n",
       "       ['None', 'None', 'Steady', ..., 'No', 'Down', 'Yes'],\n",
       "       ['None', 'None', 'No', ..., 'No', 'Up', 'Yes'],\n",
       "       ['None', 'None', 'No', ..., 'No', 'No', 'No']], dtype=object)"
      ]
     },
     "execution_count": 4,
     "metadata": {},
     "output_type": "execute_result"
    }
   ],
   "source": [
    "#To encode Label1\n",
    "Data[:,range(14,35)]"
   ]
  },
  {
   "cell_type": "code",
   "execution_count": 5,
   "metadata": {},
   "outputs": [
    {
     "data": {
      "text/plain": [
       "array([[2, 2, 1, ..., 0, 1, 0],\n",
       "       [2, 2, 1, ..., 0, 3, 1],\n",
       "       [2, 2, 1, ..., 0, 1, 1],\n",
       "       ...,\n",
       "       [2, 2, 2, ..., 0, 0, 1],\n",
       "       [2, 2, 1, ..., 0, 3, 1],\n",
       "       [2, 2, 1, ..., 0, 1, 0]], dtype=object)"
      ]
     },
     "execution_count": 5,
     "metadata": {},
     "output_type": "execute_result"
    }
   ],
   "source": [
    "#for Interger Encoding to Categorical data\n",
    "le = LabelEncoder()\n",
    "\n",
    "for i in range (14,35):\n",
    "    le.fit(Data[:,i])\n",
    "    Data[:,i] = le.transform(Data[:,i])\n",
    "\n",
    "Data[:,range(14,35)]"
   ]
  },
  {
   "cell_type": "code",
   "execution_count": 6,
   "metadata": {},
   "outputs": [
    {
     "data": {
      "text/plain": [
       "array([['Female', '[0-10)'],\n",
       "       ['Female', '[10-20)'],\n",
       "       ['Female', '[20-30)'],\n",
       "       ...,\n",
       "       ['Male', '[70-80)'],\n",
       "       ['Female', '[80-90)'],\n",
       "       ['Male', '[70-80)']], dtype=object)"
      ]
     },
     "execution_count": 6,
     "metadata": {},
     "output_type": "execute_result"
    }
   ],
   "source": [
    "#To encode Label2\n",
    "Data[:,range(1,3)]"
   ]
  },
  {
   "cell_type": "code",
   "execution_count": 7,
   "metadata": {},
   "outputs": [
    {
     "data": {
      "text/plain": [
       "array([[0, 0],\n",
       "       [0, 1],\n",
       "       [0, 2],\n",
       "       ...,\n",
       "       [1, 7],\n",
       "       [0, 8],\n",
       "       [1, 7]], dtype=object)"
      ]
     },
     "execution_count": 7,
     "metadata": {},
     "output_type": "execute_result"
    }
   ],
   "source": [
    "for i in range (1,3):\n",
    "    le = LabelEncoder()\n",
    "    le.fit(Data[:,i])\n",
    "    Data[:,i] = le.transform(Data[:,i])\n",
    "    \n",
    "Data[:,range(1,3)]"
   ]
  },
  {
   "cell_type": "code",
   "execution_count": 8,
   "metadata": {},
   "outputs": [
    {
     "data": {
      "text/plain": [
       "array([[8222157, 0, 0, ..., 0, 1, 0],\n",
       "       [55629189, 0, 1, ..., 0, 3, 1],\n",
       "       [86047875, 0, 2, ..., 0, 1, 1],\n",
       "       ...,\n",
       "       [41088789, 1, 7, ..., 0, 0, 1],\n",
       "       [31693671, 0, 8, ..., 0, 3, 1],\n",
       "       [175429310, 1, 7, ..., 0, 1, 0]], dtype=object)"
      ]
     },
     "execution_count": 8,
     "metadata": {},
     "output_type": "execute_result"
    }
   ],
   "source": [
    "Data                                #Total Data"
   ]
  },
  {
   "cell_type": "markdown",
   "metadata": {},
   "source": [
    "# Input / Output Declaration"
   ]
  },
  {
   "cell_type": "code",
   "execution_count": 9,
   "metadata": {},
   "outputs": [
    {
     "data": {
      "text/plain": [
       "(101766, 33)"
      ]
     },
     "execution_count": 9,
     "metadata": {},
     "output_type": "execute_result"
    }
   ],
   "source": [
    "X = Data[:,range(1,34)]\n",
    "X.shape"
   ]
  },
  {
   "cell_type": "code",
   "execution_count": 10,
   "metadata": {},
   "outputs": [
    {
     "data": {
      "text/plain": [
       "(101766,)"
      ]
     },
     "execution_count": 10,
     "metadata": {},
     "output_type": "execute_result"
    }
   ],
   "source": [
    "Y = Data[:,range(34,35)]\n",
    "\n",
    "#Change Y Data Type\n",
    "y = Y.ravel()\n",
    "Y = np.array(y).astype(int)\n",
    "\n",
    "Y.shape"
   ]
  },
  {
   "cell_type": "markdown",
   "metadata": {},
   "source": [
    "# Shuffle Data"
   ]
  },
  {
   "cell_type": "code",
   "execution_count": 11,
   "metadata": {},
   "outputs": [],
   "source": [
    "X,Y = shuffle(X,Y,random_state=1) "
   ]
  },
  {
   "cell_type": "markdown",
   "metadata": {},
   "source": [
    "# Train / Test Split"
   ]
  },
  {
   "cell_type": "code",
   "execution_count": 12,
   "metadata": {},
   "outputs": [],
   "source": [
    "#spliting samples into train data and test data\n",
    "x_train,x_test,y_train,y_test = train_test_split(X,Y,test_size=0.3,random_state=42)"
   ]
  },
  {
   "cell_type": "code",
   "execution_count": 13,
   "metadata": {},
   "outputs": [
    {
     "name": "stdout",
     "output_type": "stream",
     "text": [
      "(71236, 33)\n",
      "(71236,)\n",
      "(30530, 33)\n",
      "(30530,)\n"
     ]
    }
   ],
   "source": [
    "print(x_train.shape)\n",
    "print(y_train.shape)\n",
    "print(x_test.shape)\n",
    "print(y_test.shape)"
   ]
  },
  {
   "cell_type": "markdown",
   "metadata": {},
   "source": [
    "# Naive Baye Models"
   ]
  },
  {
   "cell_type": "code",
   "execution_count": 14,
   "metadata": {},
   "outputs": [
    {
     "data": {
      "text/plain": [
       "GaussianNB(priors=None, var_smoothing=1e-09)"
      ]
     },
     "execution_count": 14,
     "metadata": {},
     "output_type": "execute_result"
    }
   ],
   "source": [
    "from sklearn.naive_bayes import GaussianNB      #Import model \n",
    "\n",
    "gnb = GaussianNB()                                    #delcare gnb as model \n",
    "gnb.fit(x_train,y_train)\n",
    "#gnb.fit(x_train, y_train.astype(int))                             #model.Train dat"
   ]
  },
  {
   "cell_type": "markdown",
   "metadata": {},
   "source": [
    "# Predicting train and test samples"
   ]
  },
  {
   "cell_type": "code",
   "execution_count": 15,
   "metadata": {},
   "outputs": [],
   "source": [
    "#predicting train and test samples\n",
    "y_train_predict = gnb.predict(x_train)\n",
    "y_test_predict = gnb.predict(x_test)"
   ]
  },
  {
   "cell_type": "code",
   "execution_count": 16,
   "metadata": {},
   "outputs": [
    {
     "name": "stdout",
     "output_type": "stream",
     "text": [
      "0.9978381717109327\n",
      "0.9978381717109327\n"
     ]
    }
   ],
   "source": [
    "#testing the accuracy score of train and test data\n",
    "train_accuracy = accuracy_score(y_train,y_train_predict)\n",
    "test_accuracy = accuracy_score(y_test,y_test_predict)\n",
    "print(train_accuracy)\n",
    "print(train_accuracy)"
   ]
  },
  {
   "cell_type": "code",
   "execution_count": 17,
   "metadata": {},
   "outputs": [
    {
     "name": "stdout",
     "output_type": "stream",
     "text": [
      "[[16479     1]\n",
      " [  153 54603]]\n",
      "_______________________________\n",
      "\n",
      "[[ 6922     1]\n",
      " [   54 23553]]\n"
     ]
    }
   ],
   "source": [
    "#testing the confusion matrix of train and test data\n",
    "\n",
    "print(confusion_matrix(y_train,y_train_predict))\n",
    "print('_______________________________\\n')\n",
    "print(confusion_matrix(y_test,y_test_predict))"
   ]
  },
  {
   "cell_type": "markdown",
   "metadata": {},
   "source": [
    "# 3D Confusion Metrix"
   ]
  },
  {
   "cell_type": "code",
   "execution_count": 19,
   "metadata": {},
   "outputs": [
    {
     "data": {
      "text/plain": [
       "<matplotlib.axes._subplots.AxesSubplot at 0x292b3c95ef0>"
      ]
     },
     "execution_count": 19,
     "metadata": {},
     "output_type": "execute_result"
    },
    {
     "data": {
      "image/png": "[encoded data removed]",
      "text/plain": [
       "<matplotlib.figure.Figure at 0x292a90a6b38>"
      ]
     },
     "metadata": {},
     "output_type": "display_data"
    },
    {
     "data": {
      "image/png": "[encoded data removed]",
      "text/plain": [
       "<matplotlib.figure.Figure at 0x292a90a6940>"
      ]
     },
     "metadata": {},
     "output_type": "display_data"
    }
   ],
   "source": [
    "#(4) Accuracy measure & Plot  (Confusion Matrix)\n",
    "\n",
    "skplt.metrics.plot_confusion_matrix(y_train, y_train_predict,\n",
    "                                    title = \"Test on Train Data (Diabetes Classification)\",  \n",
    "                                    normalize=False)                         #pip install scikit-plot\n",
    "skplt.metrics.plot_confusion_matrix(y_test, y_test_predict,\n",
    "                                    title =\"Test on Validation Data(Diabetes Classification)\", \n",
    "                                    normalize=False)                         #pip install scikit-plot"
   ]
  },
  {
   "cell_type": "code",
   "execution_count": null,
   "metadata": {},
   "outputs": [],
   "source": []
  }
 ],
 "metadata": {
  "kernelspec": {
   "display_name": "Python 3",
   "language": "python",
   "name": "python3"
  },
  "language_info": {
   "codemirror_mode": {
    "name": "ipython",
    "version": 3
   },
   "file_extension": ".py",
   "mimetype": "text/x-python",
   "name": "python",
   "nbconvert_exporter": "python",
   "pygments_lexer": "ipython3",
   "version": "3.6.5"
  }
 },
 "nbformat": 4,
 "nbformat_minor": 2
}
